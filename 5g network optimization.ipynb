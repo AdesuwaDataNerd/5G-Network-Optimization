{
 "cells": [
  {
   "cell_type": "code",
   "execution_count": 1,
   "id": "eb2e4e5f",
   "metadata": {},
   "outputs": [],
   "source": [
    "import pandas as pd\n",
    "import numpy as np\n",
    "import matplotlib as plt\n"
   ]
  },
  {
   "cell_type": "code",
   "execution_count": 3,
   "id": "e15c540d",
   "metadata": {},
   "outputs": [],
   "source": [
    "df = pd.read_csv('C:/5G.csv')"
   ]
  },
  {
   "cell_type": "code",
   "execution_count": 4,
   "id": "92988419",
   "metadata": {},
   "outputs": [
    {
     "data": {
      "text/html": [
       "<div>\n",
       "<style scoped>\n",
       "    .dataframe tbody tr th:only-of-type {\n",
       "        vertical-align: middle;\n",
       "    }\n",
       "\n",
       "    .dataframe tbody tr th {\n",
       "        vertical-align: top;\n",
       "    }\n",
       "\n",
       "    .dataframe thead th {\n",
       "        text-align: right;\n",
       "    }\n",
       "</style>\n",
       "<table border=\"1\" class=\"dataframe\">\n",
       "  <thead>\n",
       "    <tr style=\"text-align: right;\">\n",
       "      <th></th>\n",
       "      <th>Timestamp</th>\n",
       "      <th>User_ID</th>\n",
       "      <th>Application_Type</th>\n",
       "      <th>Signal_Strength</th>\n",
       "      <th>Latency</th>\n",
       "      <th>Required_Bandwidth</th>\n",
       "      <th>Allocated_Bandwidth</th>\n",
       "      <th>Resource_Allocation</th>\n",
       "    </tr>\n",
       "  </thead>\n",
       "  <tbody>\n",
       "    <tr>\n",
       "      <th>0</th>\n",
       "      <td>9/3/2023 10:00</td>\n",
       "      <td>User_1</td>\n",
       "      <td>Video_Call</td>\n",
       "      <td>-75 dBm</td>\n",
       "      <td>30 ms</td>\n",
       "      <td>10 Mbps</td>\n",
       "      <td>15 Mbps</td>\n",
       "      <td>70%</td>\n",
       "    </tr>\n",
       "    <tr>\n",
       "      <th>1</th>\n",
       "      <td>9/3/2023 10:00</td>\n",
       "      <td>User_2</td>\n",
       "      <td>Voice_Call</td>\n",
       "      <td>-80 dBm</td>\n",
       "      <td>20 ms</td>\n",
       "      <td>100 Kbps</td>\n",
       "      <td>120 Kbps</td>\n",
       "      <td>80%</td>\n",
       "    </tr>\n",
       "    <tr>\n",
       "      <th>2</th>\n",
       "      <td>9/3/2023 10:00</td>\n",
       "      <td>User_3</td>\n",
       "      <td>Streaming</td>\n",
       "      <td>-85 dBm</td>\n",
       "      <td>40 ms</td>\n",
       "      <td>5 Mbps</td>\n",
       "      <td>6 Mbps</td>\n",
       "      <td>75%</td>\n",
       "    </tr>\n",
       "    <tr>\n",
       "      <th>3</th>\n",
       "      <td>9/3/2023 10:00</td>\n",
       "      <td>User_4</td>\n",
       "      <td>Emergency_Service</td>\n",
       "      <td>-70 dBm</td>\n",
       "      <td>10 ms</td>\n",
       "      <td>1 Mbps</td>\n",
       "      <td>1.5 Mbps</td>\n",
       "      <td>90%</td>\n",
       "    </tr>\n",
       "    <tr>\n",
       "      <th>4</th>\n",
       "      <td>9/3/2023 10:00</td>\n",
       "      <td>User_5</td>\n",
       "      <td>Online_Gaming</td>\n",
       "      <td>-78 dBm</td>\n",
       "      <td>25 ms</td>\n",
       "      <td>2 Mbps</td>\n",
       "      <td>3 Mbps</td>\n",
       "      <td>85%</td>\n",
       "    </tr>\n",
       "    <tr>\n",
       "      <th>...</th>\n",
       "      <td>...</td>\n",
       "      <td>...</td>\n",
       "      <td>...</td>\n",
       "      <td>...</td>\n",
       "      <td>...</td>\n",
       "      <td>...</td>\n",
       "      <td>...</td>\n",
       "      <td>...</td>\n",
       "    </tr>\n",
       "    <tr>\n",
       "      <th>395</th>\n",
       "      <td>9/3/2023 10:06</td>\n",
       "      <td>User_396</td>\n",
       "      <td>Streaming</td>\n",
       "      <td>-110 dBm</td>\n",
       "      <td>61 ms</td>\n",
       "      <td>1.3 Mbps</td>\n",
       "      <td>1.8 Mbps</td>\n",
       "      <td>85%</td>\n",
       "    </tr>\n",
       "    <tr>\n",
       "      <th>396</th>\n",
       "      <td>9/3/2023 10:06</td>\n",
       "      <td>User_397</td>\n",
       "      <td>Video_Call</td>\n",
       "      <td>-40 dBm</td>\n",
       "      <td>53 ms</td>\n",
       "      <td>14.5 Mbps</td>\n",
       "      <td>15.8 Mbps</td>\n",
       "      <td>75%</td>\n",
       "    </tr>\n",
       "    <tr>\n",
       "      <th>397</th>\n",
       "      <td>9/3/2023 10:06</td>\n",
       "      <td>User_398</td>\n",
       "      <td>Video_Streaming</td>\n",
       "      <td>-113 dBm</td>\n",
       "      <td>58 ms</td>\n",
       "      <td>1.0 Mbps</td>\n",
       "      <td>1.4 Mbps</td>\n",
       "      <td>70%</td>\n",
       "    </tr>\n",
       "    <tr>\n",
       "      <th>398</th>\n",
       "      <td>9/3/2023 10:06</td>\n",
       "      <td>User_399</td>\n",
       "      <td>Emergency_Service</td>\n",
       "      <td>-40 dBm</td>\n",
       "      <td>5 ms</td>\n",
       "      <td>0.4 Mbps</td>\n",
       "      <td>0.4 Mbps</td>\n",
       "      <td>70%</td>\n",
       "    </tr>\n",
       "    <tr>\n",
       "      <th>399</th>\n",
       "      <td>9/3/2023 10:06</td>\n",
       "      <td>User_400</td>\n",
       "      <td>Web_Browsing</td>\n",
       "      <td>-113 dBm</td>\n",
       "      <td>0 ms</td>\n",
       "      <td>0.1 Mbps</td>\n",
       "      <td>0.1 Mbps</td>\n",
       "      <td>70%</td>\n",
       "    </tr>\n",
       "  </tbody>\n",
       "</table>\n",
       "<p>400 rows × 8 columns</p>\n",
       "</div>"
      ],
      "text/plain": [
       "          Timestamp   User_ID   Application_Type Signal_Strength Latency  \\\n",
       "0    9/3/2023 10:00    User_1         Video_Call         -75 dBm   30 ms   \n",
       "1    9/3/2023 10:00    User_2         Voice_Call         -80 dBm   20 ms   \n",
       "2    9/3/2023 10:00    User_3          Streaming         -85 dBm   40 ms   \n",
       "3    9/3/2023 10:00    User_4  Emergency_Service         -70 dBm   10 ms   \n",
       "4    9/3/2023 10:00    User_5      Online_Gaming         -78 dBm   25 ms   \n",
       "..              ...       ...                ...             ...     ...   \n",
       "395  9/3/2023 10:06  User_396          Streaming        -110 dBm   61 ms   \n",
       "396  9/3/2023 10:06  User_397         Video_Call         -40 dBm   53 ms   \n",
       "397  9/3/2023 10:06  User_398    Video_Streaming        -113 dBm   58 ms   \n",
       "398  9/3/2023 10:06  User_399  Emergency_Service         -40 dBm    5 ms   \n",
       "399  9/3/2023 10:06  User_400       Web_Browsing        -113 dBm    0 ms   \n",
       "\n",
       "    Required_Bandwidth Allocated_Bandwidth Resource_Allocation  \n",
       "0              10 Mbps             15 Mbps                 70%  \n",
       "1             100 Kbps            120 Kbps                 80%  \n",
       "2               5 Mbps              6 Mbps                 75%  \n",
       "3               1 Mbps            1.5 Mbps                 90%  \n",
       "4               2 Mbps              3 Mbps                 85%  \n",
       "..                 ...                 ...                 ...  \n",
       "395           1.3 Mbps            1.8 Mbps                 85%  \n",
       "396          14.5 Mbps           15.8 Mbps                 75%  \n",
       "397           1.0 Mbps            1.4 Mbps                 70%  \n",
       "398           0.4 Mbps            0.4 Mbps                 70%  \n",
       "399           0.1 Mbps            0.1 Mbps                 70%  \n",
       "\n",
       "[400 rows x 8 columns]"
      ]
     },
     "execution_count": 4,
     "metadata": {},
     "output_type": "execute_result"
    }
   ],
   "source": [
    "df"
   ]
  },
  {
   "cell_type": "code",
   "execution_count": 5,
   "id": "6669cabc",
   "metadata": {},
   "outputs": [
    {
     "data": {
      "text/plain": [
       "Timestamp              0\n",
       "User_ID                0\n",
       "Application_Type       0\n",
       "Signal_Strength        0\n",
       "Latency                0\n",
       "Required_Bandwidth     0\n",
       "Allocated_Bandwidth    0\n",
       "Resource_Allocation    0\n",
       "dtype: int64"
      ]
     },
     "execution_count": 5,
     "metadata": {},
     "output_type": "execute_result"
    }
   ],
   "source": [
    "df.isna().sum()"
   ]
  },
  {
   "cell_type": "code",
   "execution_count": 7,
   "id": "b6284902",
   "metadata": {},
   "outputs": [
    {
     "data": {
      "text/plain": [
       "0      False\n",
       "1      False\n",
       "2      False\n",
       "3      False\n",
       "4      False\n",
       "       ...  \n",
       "395    False\n",
       "396    False\n",
       "397    False\n",
       "398    False\n",
       "399    False\n",
       "Length: 400, dtype: bool"
      ]
     },
     "execution_count": 7,
     "metadata": {},
     "output_type": "execute_result"
    }
   ],
   "source": [
    "df.duplicated()"
   ]
  },
  {
   "cell_type": "code",
   "execution_count": 8,
   "id": "2f1712e4",
   "metadata": {},
   "outputs": [],
   "source": [
    "#Feature Selection\n",
    "data = df[['Timestamp', 'Application_Type', 'Signal_Strength', 'Latency', 'Required_Bandwidth', 'User_ID', 'Allocated_Bandwidth']]\n"
   ]
  },
  {
   "cell_type": "code",
   "execution_count": 9,
   "id": "e4c9ac5d",
   "metadata": {},
   "outputs": [
    {
     "data": {
      "text/html": [
       "<div>\n",
       "<style scoped>\n",
       "    .dataframe tbody tr th:only-of-type {\n",
       "        vertical-align: middle;\n",
       "    }\n",
       "\n",
       "    .dataframe tbody tr th {\n",
       "        vertical-align: top;\n",
       "    }\n",
       "\n",
       "    .dataframe thead th {\n",
       "        text-align: right;\n",
       "    }\n",
       "</style>\n",
       "<table border=\"1\" class=\"dataframe\">\n",
       "  <thead>\n",
       "    <tr style=\"text-align: right;\">\n",
       "      <th></th>\n",
       "      <th>Timestamp</th>\n",
       "      <th>Application_Type</th>\n",
       "      <th>Signal_Strength</th>\n",
       "      <th>Latency</th>\n",
       "      <th>Required_Bandwidth</th>\n",
       "      <th>User_ID</th>\n",
       "      <th>Allocated_Bandwidth</th>\n",
       "    </tr>\n",
       "  </thead>\n",
       "  <tbody>\n",
       "    <tr>\n",
       "      <th>0</th>\n",
       "      <td>9/3/2023 10:00</td>\n",
       "      <td>Video_Call</td>\n",
       "      <td>-75 dBm</td>\n",
       "      <td>30 ms</td>\n",
       "      <td>10 Mbps</td>\n",
       "      <td>User_1</td>\n",
       "      <td>15 Mbps</td>\n",
       "    </tr>\n",
       "    <tr>\n",
       "      <th>1</th>\n",
       "      <td>9/3/2023 10:00</td>\n",
       "      <td>Voice_Call</td>\n",
       "      <td>-80 dBm</td>\n",
       "      <td>20 ms</td>\n",
       "      <td>100 Kbps</td>\n",
       "      <td>User_2</td>\n",
       "      <td>120 Kbps</td>\n",
       "    </tr>\n",
       "    <tr>\n",
       "      <th>2</th>\n",
       "      <td>9/3/2023 10:00</td>\n",
       "      <td>Streaming</td>\n",
       "      <td>-85 dBm</td>\n",
       "      <td>40 ms</td>\n",
       "      <td>5 Mbps</td>\n",
       "      <td>User_3</td>\n",
       "      <td>6 Mbps</td>\n",
       "    </tr>\n",
       "    <tr>\n",
       "      <th>3</th>\n",
       "      <td>9/3/2023 10:00</td>\n",
       "      <td>Emergency_Service</td>\n",
       "      <td>-70 dBm</td>\n",
       "      <td>10 ms</td>\n",
       "      <td>1 Mbps</td>\n",
       "      <td>User_4</td>\n",
       "      <td>1.5 Mbps</td>\n",
       "    </tr>\n",
       "    <tr>\n",
       "      <th>4</th>\n",
       "      <td>9/3/2023 10:00</td>\n",
       "      <td>Online_Gaming</td>\n",
       "      <td>-78 dBm</td>\n",
       "      <td>25 ms</td>\n",
       "      <td>2 Mbps</td>\n",
       "      <td>User_5</td>\n",
       "      <td>3 Mbps</td>\n",
       "    </tr>\n",
       "    <tr>\n",
       "      <th>...</th>\n",
       "      <td>...</td>\n",
       "      <td>...</td>\n",
       "      <td>...</td>\n",
       "      <td>...</td>\n",
       "      <td>...</td>\n",
       "      <td>...</td>\n",
       "      <td>...</td>\n",
       "    </tr>\n",
       "    <tr>\n",
       "      <th>395</th>\n",
       "      <td>9/3/2023 10:06</td>\n",
       "      <td>Streaming</td>\n",
       "      <td>-110 dBm</td>\n",
       "      <td>61 ms</td>\n",
       "      <td>1.3 Mbps</td>\n",
       "      <td>User_396</td>\n",
       "      <td>1.8 Mbps</td>\n",
       "    </tr>\n",
       "    <tr>\n",
       "      <th>396</th>\n",
       "      <td>9/3/2023 10:06</td>\n",
       "      <td>Video_Call</td>\n",
       "      <td>-40 dBm</td>\n",
       "      <td>53 ms</td>\n",
       "      <td>14.5 Mbps</td>\n",
       "      <td>User_397</td>\n",
       "      <td>15.8 Mbps</td>\n",
       "    </tr>\n",
       "    <tr>\n",
       "      <th>397</th>\n",
       "      <td>9/3/2023 10:06</td>\n",
       "      <td>Video_Streaming</td>\n",
       "      <td>-113 dBm</td>\n",
       "      <td>58 ms</td>\n",
       "      <td>1.0 Mbps</td>\n",
       "      <td>User_398</td>\n",
       "      <td>1.4 Mbps</td>\n",
       "    </tr>\n",
       "    <tr>\n",
       "      <th>398</th>\n",
       "      <td>9/3/2023 10:06</td>\n",
       "      <td>Emergency_Service</td>\n",
       "      <td>-40 dBm</td>\n",
       "      <td>5 ms</td>\n",
       "      <td>0.4 Mbps</td>\n",
       "      <td>User_399</td>\n",
       "      <td>0.4 Mbps</td>\n",
       "    </tr>\n",
       "    <tr>\n",
       "      <th>399</th>\n",
       "      <td>9/3/2023 10:06</td>\n",
       "      <td>Web_Browsing</td>\n",
       "      <td>-113 dBm</td>\n",
       "      <td>0 ms</td>\n",
       "      <td>0.1 Mbps</td>\n",
       "      <td>User_400</td>\n",
       "      <td>0.1 Mbps</td>\n",
       "    </tr>\n",
       "  </tbody>\n",
       "</table>\n",
       "<p>400 rows × 7 columns</p>\n",
       "</div>"
      ],
      "text/plain": [
       "          Timestamp   Application_Type Signal_Strength Latency  \\\n",
       "0    9/3/2023 10:00         Video_Call         -75 dBm   30 ms   \n",
       "1    9/3/2023 10:00         Voice_Call         -80 dBm   20 ms   \n",
       "2    9/3/2023 10:00          Streaming         -85 dBm   40 ms   \n",
       "3    9/3/2023 10:00  Emergency_Service         -70 dBm   10 ms   \n",
       "4    9/3/2023 10:00      Online_Gaming         -78 dBm   25 ms   \n",
       "..              ...                ...             ...     ...   \n",
       "395  9/3/2023 10:06          Streaming        -110 dBm   61 ms   \n",
       "396  9/3/2023 10:06         Video_Call         -40 dBm   53 ms   \n",
       "397  9/3/2023 10:06    Video_Streaming        -113 dBm   58 ms   \n",
       "398  9/3/2023 10:06  Emergency_Service         -40 dBm    5 ms   \n",
       "399  9/3/2023 10:06       Web_Browsing        -113 dBm    0 ms   \n",
       "\n",
       "    Required_Bandwidth   User_ID Allocated_Bandwidth  \n",
       "0              10 Mbps    User_1             15 Mbps  \n",
       "1             100 Kbps    User_2            120 Kbps  \n",
       "2               5 Mbps    User_3              6 Mbps  \n",
       "3               1 Mbps    User_4            1.5 Mbps  \n",
       "4               2 Mbps    User_5              3 Mbps  \n",
       "..                 ...       ...                 ...  \n",
       "395           1.3 Mbps  User_396            1.8 Mbps  \n",
       "396          14.5 Mbps  User_397           15.8 Mbps  \n",
       "397           1.0 Mbps  User_398            1.4 Mbps  \n",
       "398           0.4 Mbps  User_399            0.4 Mbps  \n",
       "399           0.1 Mbps  User_400            0.1 Mbps  \n",
       "\n",
       "[400 rows x 7 columns]"
      ]
     },
     "execution_count": 9,
     "metadata": {},
     "output_type": "execute_result"
    }
   ],
   "source": [
    "data"
   ]
  },
  {
   "cell_type": "code",
   "execution_count": 10,
   "id": "0729876d",
   "metadata": {},
   "outputs": [],
   "source": [
    "data['Hour'] = pd.to_datetime(data['Timestamp']).dt.hour\n",
    "data['DayOfWeek'] = pd.to_datetime(data['Timestamp']).dt.dayofweek\n"
   ]
  },
  {
   "cell_type": "code",
   "execution_count": 19,
   "id": "07a42bc3",
   "metadata": {},
   "outputs": [],
   "source": [
    "# Use one-hot encoding for 'Application_Type'\n",
    "data = pd.get_dummies(data, columns=['Application_Type'], drop_first=True)\n"
   ]
  },
  {
   "cell_type": "code",
   "execution_count": 21,
   "id": "eb6a7d2f",
   "metadata": {},
   "outputs": [],
   "source": [
    "data = data.drop(columns=['Timestamp','User_ID'])"
   ]
  },
  {
   "cell_type": "code",
   "execution_count": 33,
   "id": "aa48e3f2",
   "metadata": {},
   "outputs": [],
   "source": [
    "# Extract numerical parts and convert to float\n",
    "data['Signal_Strength'] = data['Signal_Strength'].str.extract('(-?\\d+\\.\\d+)').astype(float)\n",
    "data['Latency'] = data['Latency'].str.extract('(\\d+)').astype(float)\n",
    "data['Required_Bandwidth'] = data['Required_Bandwidth'].str.extract('(\\d+)').astype(float)\n",
    "data['Allocated_Bandwidth'] = data['Allocated_Bandwidth'].str.extract('(\\d+)').astype(float)\n",
    "\n",
    "\n"
   ]
  },
  {
   "cell_type": "code",
   "execution_count": 14,
   "id": "7bc64a21",
   "metadata": {},
   "outputs": [],
   "source": [
    "from sklearn.model_selection import train_test_split"
   ]
  },
  {
   "cell_type": "code",
   "execution_count": 34,
   "id": "a47c83d6",
   "metadata": {},
   "outputs": [],
   "source": [
    "X = data.drop(columns=['Allocated_Bandwidth'])\n",
    "y = data['Allocated_Bandwidth']"
   ]
  },
  {
   "cell_type": "code",
   "execution_count": 35,
   "id": "894bdd83",
   "metadata": {},
   "outputs": [],
   "source": [
    "X_train,X_test, y_train, y_test = train_test_split(X, y, test_size= 0.2, random_state=42)"
   ]
  },
  {
   "cell_type": "code",
   "execution_count": 36,
   "id": "a57b88c5",
   "metadata": {},
   "outputs": [
    {
     "data": {
      "text/html": [
       "<style>#sk-container-id-1 {color: black;}#sk-container-id-1 pre{padding: 0;}#sk-container-id-1 div.sk-toggleable {background-color: white;}#sk-container-id-1 label.sk-toggleable__label {cursor: pointer;display: block;width: 100%;margin-bottom: 0;padding: 0.3em;box-sizing: border-box;text-align: center;}#sk-container-id-1 label.sk-toggleable__label-arrow:before {content: \"▸\";float: left;margin-right: 0.25em;color: #696969;}#sk-container-id-1 label.sk-toggleable__label-arrow:hover:before {color: black;}#sk-container-id-1 div.sk-estimator:hover label.sk-toggleable__label-arrow:before {color: black;}#sk-container-id-1 div.sk-toggleable__content {max-height: 0;max-width: 0;overflow: hidden;text-align: left;background-color: #f0f8ff;}#sk-container-id-1 div.sk-toggleable__content pre {margin: 0.2em;color: black;border-radius: 0.25em;background-color: #f0f8ff;}#sk-container-id-1 input.sk-toggleable__control:checked~div.sk-toggleable__content {max-height: 200px;max-width: 100%;overflow: auto;}#sk-container-id-1 input.sk-toggleable__control:checked~label.sk-toggleable__label-arrow:before {content: \"▾\";}#sk-container-id-1 div.sk-estimator input.sk-toggleable__control:checked~label.sk-toggleable__label {background-color: #d4ebff;}#sk-container-id-1 div.sk-label input.sk-toggleable__control:checked~label.sk-toggleable__label {background-color: #d4ebff;}#sk-container-id-1 input.sk-hidden--visually {border: 0;clip: rect(1px 1px 1px 1px);clip: rect(1px, 1px, 1px, 1px);height: 1px;margin: -1px;overflow: hidden;padding: 0;position: absolute;width: 1px;}#sk-container-id-1 div.sk-estimator {font-family: monospace;background-color: #f0f8ff;border: 1px dotted black;border-radius: 0.25em;box-sizing: border-box;margin-bottom: 0.5em;}#sk-container-id-1 div.sk-estimator:hover {background-color: #d4ebff;}#sk-container-id-1 div.sk-parallel-item::after {content: \"\";width: 100%;border-bottom: 1px solid gray;flex-grow: 1;}#sk-container-id-1 div.sk-label:hover label.sk-toggleable__label {background-color: #d4ebff;}#sk-container-id-1 div.sk-serial::before {content: \"\";position: absolute;border-left: 1px solid gray;box-sizing: border-box;top: 0;bottom: 0;left: 50%;z-index: 0;}#sk-container-id-1 div.sk-serial {display: flex;flex-direction: column;align-items: center;background-color: white;padding-right: 0.2em;padding-left: 0.2em;position: relative;}#sk-container-id-1 div.sk-item {position: relative;z-index: 1;}#sk-container-id-1 div.sk-parallel {display: flex;align-items: stretch;justify-content: center;background-color: white;position: relative;}#sk-container-id-1 div.sk-item::before, #sk-container-id-1 div.sk-parallel-item::before {content: \"\";position: absolute;border-left: 1px solid gray;box-sizing: border-box;top: 0;bottom: 0;left: 50%;z-index: -1;}#sk-container-id-1 div.sk-parallel-item {display: flex;flex-direction: column;z-index: 1;position: relative;background-color: white;}#sk-container-id-1 div.sk-parallel-item:first-child::after {align-self: flex-end;width: 50%;}#sk-container-id-1 div.sk-parallel-item:last-child::after {align-self: flex-start;width: 50%;}#sk-container-id-1 div.sk-parallel-item:only-child::after {width: 0;}#sk-container-id-1 div.sk-dashed-wrapped {border: 1px dashed gray;margin: 0 0.4em 0.5em 0.4em;box-sizing: border-box;padding-bottom: 0.4em;background-color: white;}#sk-container-id-1 div.sk-label label {font-family: monospace;font-weight: bold;display: inline-block;line-height: 1.2em;}#sk-container-id-1 div.sk-label-container {text-align: center;}#sk-container-id-1 div.sk-container {/* jupyter's `normalize.less` sets `[hidden] { display: none; }` but bootstrap.min.css set `[hidden] { display: none !important; }` so we also need the `!important` here to be able to override the default hidden behavior on the sphinx rendered scikit-learn.org. See: https://github.com/scikit-learn/scikit-learn/issues/21755 */display: inline-block !important;position: relative;}#sk-container-id-1 div.sk-text-repr-fallback {display: none;}</style><div id=\"sk-container-id-1\" class=\"sk-top-container\"><div class=\"sk-text-repr-fallback\"><pre>DecisionTreeRegressor()</pre><b>In a Jupyter environment, please rerun this cell to show the HTML representation or trust the notebook. <br />On GitHub, the HTML representation is unable to render, please try loading this page with nbviewer.org.</b></div><div class=\"sk-container\" hidden><div class=\"sk-item\"><div class=\"sk-estimator sk-toggleable\"><input class=\"sk-toggleable__control sk-hidden--visually\" id=\"sk-estimator-id-1\" type=\"checkbox\" checked><label for=\"sk-estimator-id-1\" class=\"sk-toggleable__label sk-toggleable__label-arrow\">DecisionTreeRegressor</label><div class=\"sk-toggleable__content\"><pre>DecisionTreeRegressor()</pre></div></div></div></div></div>"
      ],
      "text/plain": [
       "DecisionTreeRegressor()"
      ]
     },
     "execution_count": 36,
     "metadata": {},
     "output_type": "execute_result"
    }
   ],
   "source": [
    "from sklearn.tree import DecisionTreeRegressor\n",
    "\n",
    "# Creating a decision tree model\n",
    "dt_model = DecisionTreeRegressor()\n",
    "dt_model.fit(X_train, y_train)"
   ]
  },
  {
   "cell_type": "code",
   "execution_count": 37,
   "id": "b117c644",
   "metadata": {},
   "outputs": [],
   "source": [
    "# Decision tree prediction\n",
    "dt_predictions = dt_model.predict(X_test)"
   ]
  },
  {
   "cell_type": "code",
   "execution_count": 38,
   "id": "fbcbe901",
   "metadata": {},
   "outputs": [
    {
     "data": {
      "text/plain": [
       "array([1.15000000e+02, 4.80000000e+02, 1.85000000e+02, 4.00000000e+00,\n",
       "       1.70000000e+02, 1.20000000e+01, 1.50000000e+01, 1.20000000e+01,\n",
       "       5.00000000e+00, 6.70000000e+02, 2.00000000e+00, 2.00000000e+01,\n",
       "       1.00000000e+00, 0.00000000e+00, 1.50000000e+02, 1.00000000e+00,\n",
       "       1.15384615e-01, 3.80000000e+02, 0.00000000e+00, 5.00000000e+00,\n",
       "       6.70000000e+02, 4.00000000e+00, 0.00000000e+00, 0.00000000e+00,\n",
       "       1.20000000e+01, 1.50000000e+01, 1.20000000e+01, 1.05000000e+02,\n",
       "       1.15384615e-01, 4.50000000e+00, 1.00000000e+00, 1.15000000e+02,\n",
       "       3.00000000e+00, 6.50000000e+02, 5.40000000e+02, 0.00000000e+00,\n",
       "       1.70000000e+02, 1.15384615e-01, 1.15384615e-01, 1.30000000e+01,\n",
       "       1.00000000e+00, 4.00000000e+00, 0.00000000e+00, 4.00000000e+00,\n",
       "       0.00000000e+00, 1.15384615e-01, 4.50000000e+00, 3.50000000e+00,\n",
       "       1.00000000e+00, 4.00000000e+00, 1.00000000e+00, 1.40000000e+01,\n",
       "       6.00000000e+00, 1.20000000e+01, 1.15384615e-01, 4.00000000e+00,\n",
       "       0.00000000e+00, 1.20000000e+01, 1.20000000e+01, 0.00000000e+00,\n",
       "       4.50000000e+00, 1.15384615e-01, 0.00000000e+00, 2.00000000e+00,\n",
       "       3.00000000e+00, 2.00000000e+00, 3.90000000e+02, 1.40000000e+01,\n",
       "       6.00000000e+00, 1.75000000e+02, 4.30000000e+02, 4.50000000e+00,\n",
       "       5.10000000e+02, 4.00000000e+00, 1.50000000e+01, 1.15384615e-01,\n",
       "       4.00000000e+00, 5.00000000e+00, 6.20000000e+02, 6.50000000e+01])"
      ]
     },
     "execution_count": 38,
     "metadata": {},
     "output_type": "execute_result"
    }
   ],
   "source": [
    "dt_predictions"
   ]
  },
  {
   "cell_type": "code",
   "execution_count": 41,
   "id": "8721c15a",
   "metadata": {},
   "outputs": [
    {
     "data": {
      "text/plain": [
       "43.06407174556213"
      ]
     },
     "execution_count": 41,
     "metadata": {},
     "output_type": "execute_result"
    }
   ],
   "source": [
    "from sklearn.metrics import mean_squared_error\n",
    "\n",
    "# Decision tree evaluation\n",
    "dt_mse = mean_squared_error(y_test, dt_predictions)\n",
    "dt_mse"
   ]
  },
  {
   "cell_type": "code",
   "execution_count": 44,
   "id": "bc3e96bb",
   "metadata": {},
   "outputs": [],
   "source": [
    "from sklearn.ensemble import RandomForestRegressor\n"
   ]
  },
  {
   "cell_type": "code",
   "execution_count": 47,
   "id": "a5645ffd",
   "metadata": {},
   "outputs": [
    {
     "name": "stderr",
     "output_type": "stream",
     "text": [
      "C:\\Users\\user\\anaconda3\\Lib\\site-packages\\sklearn\\impute\\_base.py:555: UserWarning: Skipping features without any observed values: ['Signal_Strength']. At least one non-missing value is needed for imputation with strategy='mean'.\n",
      "  warnings.warn(\n",
      "C:\\Users\\user\\anaconda3\\Lib\\site-packages\\sklearn\\impute\\_base.py:555: UserWarning: Skipping features without any observed values: ['Signal_Strength']. At least one non-missing value is needed for imputation with strategy='mean'.\n",
      "  warnings.warn(\n"
     ]
    }
   ],
   "source": [
    "from sklearn.impute import SimpleImputer\n",
    "# Replace missing values with the mean of each column\n",
    "imputer = SimpleImputer(strategy='mean')\n",
    "X_train_imputed = imputer.fit_transform(X_train)\n",
    "X_test_imputed = imputer.transform(X_test)"
   ]
  },
  {
   "cell_type": "code",
   "execution_count": 48,
   "id": "7c6ed76d",
   "metadata": {},
   "outputs": [
    {
     "data": {
      "text/html": [
       "<style>#sk-container-id-2 {color: black;}#sk-container-id-2 pre{padding: 0;}#sk-container-id-2 div.sk-toggleable {background-color: white;}#sk-container-id-2 label.sk-toggleable__label {cursor: pointer;display: block;width: 100%;margin-bottom: 0;padding: 0.3em;box-sizing: border-box;text-align: center;}#sk-container-id-2 label.sk-toggleable__label-arrow:before {content: \"▸\";float: left;margin-right: 0.25em;color: #696969;}#sk-container-id-2 label.sk-toggleable__label-arrow:hover:before {color: black;}#sk-container-id-2 div.sk-estimator:hover label.sk-toggleable__label-arrow:before {color: black;}#sk-container-id-2 div.sk-toggleable__content {max-height: 0;max-width: 0;overflow: hidden;text-align: left;background-color: #f0f8ff;}#sk-container-id-2 div.sk-toggleable__content pre {margin: 0.2em;color: black;border-radius: 0.25em;background-color: #f0f8ff;}#sk-container-id-2 input.sk-toggleable__control:checked~div.sk-toggleable__content {max-height: 200px;max-width: 100%;overflow: auto;}#sk-container-id-2 input.sk-toggleable__control:checked~label.sk-toggleable__label-arrow:before {content: \"▾\";}#sk-container-id-2 div.sk-estimator input.sk-toggleable__control:checked~label.sk-toggleable__label {background-color: #d4ebff;}#sk-container-id-2 div.sk-label input.sk-toggleable__control:checked~label.sk-toggleable__label {background-color: #d4ebff;}#sk-container-id-2 input.sk-hidden--visually {border: 0;clip: rect(1px 1px 1px 1px);clip: rect(1px, 1px, 1px, 1px);height: 1px;margin: -1px;overflow: hidden;padding: 0;position: absolute;width: 1px;}#sk-container-id-2 div.sk-estimator {font-family: monospace;background-color: #f0f8ff;border: 1px dotted black;border-radius: 0.25em;box-sizing: border-box;margin-bottom: 0.5em;}#sk-container-id-2 div.sk-estimator:hover {background-color: #d4ebff;}#sk-container-id-2 div.sk-parallel-item::after {content: \"\";width: 100%;border-bottom: 1px solid gray;flex-grow: 1;}#sk-container-id-2 div.sk-label:hover label.sk-toggleable__label {background-color: #d4ebff;}#sk-container-id-2 div.sk-serial::before {content: \"\";position: absolute;border-left: 1px solid gray;box-sizing: border-box;top: 0;bottom: 0;left: 50%;z-index: 0;}#sk-container-id-2 div.sk-serial {display: flex;flex-direction: column;align-items: center;background-color: white;padding-right: 0.2em;padding-left: 0.2em;position: relative;}#sk-container-id-2 div.sk-item {position: relative;z-index: 1;}#sk-container-id-2 div.sk-parallel {display: flex;align-items: stretch;justify-content: center;background-color: white;position: relative;}#sk-container-id-2 div.sk-item::before, #sk-container-id-2 div.sk-parallel-item::before {content: \"\";position: absolute;border-left: 1px solid gray;box-sizing: border-box;top: 0;bottom: 0;left: 50%;z-index: -1;}#sk-container-id-2 div.sk-parallel-item {display: flex;flex-direction: column;z-index: 1;position: relative;background-color: white;}#sk-container-id-2 div.sk-parallel-item:first-child::after {align-self: flex-end;width: 50%;}#sk-container-id-2 div.sk-parallel-item:last-child::after {align-self: flex-start;width: 50%;}#sk-container-id-2 div.sk-parallel-item:only-child::after {width: 0;}#sk-container-id-2 div.sk-dashed-wrapped {border: 1px dashed gray;margin: 0 0.4em 0.5em 0.4em;box-sizing: border-box;padding-bottom: 0.4em;background-color: white;}#sk-container-id-2 div.sk-label label {font-family: monospace;font-weight: bold;display: inline-block;line-height: 1.2em;}#sk-container-id-2 div.sk-label-container {text-align: center;}#sk-container-id-2 div.sk-container {/* jupyter's `normalize.less` sets `[hidden] { display: none; }` but bootstrap.min.css set `[hidden] { display: none !important; }` so we also need the `!important` here to be able to override the default hidden behavior on the sphinx rendered scikit-learn.org. See: https://github.com/scikit-learn/scikit-learn/issues/21755 */display: inline-block !important;position: relative;}#sk-container-id-2 div.sk-text-repr-fallback {display: none;}</style><div id=\"sk-container-id-2\" class=\"sk-top-container\"><div class=\"sk-text-repr-fallback\"><pre>RandomForestRegressor()</pre><b>In a Jupyter environment, please rerun this cell to show the HTML representation or trust the notebook. <br />On GitHub, the HTML representation is unable to render, please try loading this page with nbviewer.org.</b></div><div class=\"sk-container\" hidden><div class=\"sk-item\"><div class=\"sk-estimator sk-toggleable\"><input class=\"sk-toggleable__control sk-hidden--visually\" id=\"sk-estimator-id-2\" type=\"checkbox\" checked><label for=\"sk-estimator-id-2\" class=\"sk-toggleable__label sk-toggleable__label-arrow\">RandomForestRegressor</label><div class=\"sk-toggleable__content\"><pre>RandomForestRegressor()</pre></div></div></div></div></div>"
      ],
      "text/plain": [
       "RandomForestRegressor()"
      ]
     },
     "execution_count": 48,
     "metadata": {},
     "output_type": "execute_result"
    }
   ],
   "source": [
    "# Create a random forest model\n",
    "rf_model = RandomForestRegressor()\n",
    "rf_model.fit(X_train_imputed, y_train)"
   ]
  },
  {
   "cell_type": "code",
   "execution_count": 49,
   "id": "f4c31df2",
   "metadata": {},
   "outputs": [],
   "source": [
    "# Random forest prediction\n",
    "rf_predictions = rf_model.predict(X_test_imputed)"
   ]
  },
  {
   "cell_type": "code",
   "execution_count": 50,
   "id": "91e0b17a",
   "metadata": {},
   "outputs": [
    {
     "data": {
      "text/plain": [
       "7.402375359406413"
      ]
     },
     "execution_count": 50,
     "metadata": {},
     "output_type": "execute_result"
    }
   ],
   "source": [
    "# Random forest evaluation\n",
    "rf_mse = mean_squared_error(y_test, rf_predictions)\n",
    "rf_mse"
   ]
  },
  {
   "cell_type": "code",
   "execution_count": 54,
   "id": "8ec34ef3",
   "metadata": {},
   "outputs": [
    {
     "name": "stdout",
     "output_type": "stream",
     "text": [
      "Decision Tree R2 Score: 0.9986860378155022\n",
      "Decision Tree RMSE: 6.5623221305847315\n",
      "Decision Tree MAE: 2.514903846153846\n",
      "Decision Tree mse: 43.06407174556213\n"
     ]
    }
   ],
   "source": [
    "from sklearn.metrics import r2_score, mean_squared_error, mean_absolute_error\n",
    "# Decision Tree evaluation\n",
    "dt_r2 = r2_score(y_test, dt_predictions)\n",
    "dt_rmse = np.sqrt(mean_squared_error(y_test, dt_predictions))\n",
    "dt_mae = mean_absolute_error(y_test, dt_predictions)\n",
    "\n",
    "print(\"Decision Tree R2 Score:\", dt_r2)\n",
    "print(\"Decision Tree RMSE:\", dt_rmse)\n",
    "print(\"Decision Tree MAE:\", dt_mae)\n",
    "print(\"Decision Tree mse:\", dt_mse)"
   ]
  },
  {
   "cell_type": "code",
   "execution_count": 56,
   "id": "aa967c07",
   "metadata": {},
   "outputs": [
    {
     "name": "stdout",
     "output_type": "stream",
     "text": [
      "\n",
      "Random Forest R2 Score: 0.9997741402309752\n",
      "Random Forest RMSE: 2.720730666458261\n",
      "Random Forest MAE: 1.0583158004730695\n",
      "Random Forest Mse,: 7.402375359406413\n"
     ]
    }
   ],
   "source": [
    "# Random Forest evaluation\n",
    "rf_r2 = r2_score(y_test, rf_predictions)\n",
    "rf_rmse = np.sqrt(mean_squared_error(y_test, rf_predictions))\n",
    "rf_mae = mean_absolute_error(y_test, rf_predictions)\n",
    "\n",
    "print(\"\\nRandom Forest R2 Score:\", rf_r2)\n",
    "print(\"Random Forest RMSE:\", rf_rmse)\n",
    "print(\"Random Forest MAE:\", rf_mae)\n",
    "print(\"Random Forest Mse,:\", rf_mse)"
   ]
  },
  {
   "cell_type": "code",
   "execution_count": null,
   "id": "04ea76c1",
   "metadata": {},
   "outputs": [],
   "source": []
  }
 ],
 "metadata": {
  "kernelspec": {
   "display_name": "Python 3 (ipykernel)",
   "language": "python",
   "name": "python3"
  },
  "language_info": {
   "codemirror_mode": {
    "name": "ipython",
    "version": 3
   },
   "file_extension": ".py",
   "mimetype": "text/x-python",
   "name": "python",
   "nbconvert_exporter": "python",
   "pygments_lexer": "ipython3",
   "version": "3.11.4"
  }
 },
 "nbformat": 4,
 "nbformat_minor": 5
}
